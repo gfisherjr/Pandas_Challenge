{
 "cells": [
  {
   "cell_type": "code",
   "execution_count": 1,
   "metadata": {},
   "outputs": [
    {
     "data": {
      "text/html": [
       "<div>\n",
       "<style scoped>\n",
       "    .dataframe tbody tr th:only-of-type {\n",
       "        vertical-align: middle;\n",
       "    }\n",
       "\n",
       "    .dataframe tbody tr th {\n",
       "        vertical-align: top;\n",
       "    }\n",
       "\n",
       "    .dataframe thead th {\n",
       "        text-align: right;\n",
       "    }\n",
       "</style>\n",
       "<table border=\"1\" class=\"dataframe\">\n",
       "  <thead>\n",
       "    <tr style=\"text-align: right;\">\n",
       "      <th></th>\n",
       "      <th>Purchase ID</th>\n",
       "      <th>SN</th>\n",
       "      <th>Age</th>\n",
       "      <th>Gender</th>\n",
       "      <th>Item ID</th>\n",
       "      <th>Item Name</th>\n",
       "      <th>Price</th>\n",
       "    </tr>\n",
       "  </thead>\n",
       "  <tbody>\n",
       "    <tr>\n",
       "      <td>0</td>\n",
       "      <td>0</td>\n",
       "      <td>Lisim78</td>\n",
       "      <td>20</td>\n",
       "      <td>Male</td>\n",
       "      <td>108</td>\n",
       "      <td>Extraction, Quickblade Of Trembling Hands</td>\n",
       "      <td>3.53</td>\n",
       "    </tr>\n",
       "    <tr>\n",
       "      <td>1</td>\n",
       "      <td>1</td>\n",
       "      <td>Lisovynya38</td>\n",
       "      <td>40</td>\n",
       "      <td>Male</td>\n",
       "      <td>143</td>\n",
       "      <td>Frenzied Scimitar</td>\n",
       "      <td>1.56</td>\n",
       "    </tr>\n",
       "    <tr>\n",
       "      <td>2</td>\n",
       "      <td>2</td>\n",
       "      <td>Ithergue48</td>\n",
       "      <td>24</td>\n",
       "      <td>Male</td>\n",
       "      <td>92</td>\n",
       "      <td>Final Critic</td>\n",
       "      <td>4.88</td>\n",
       "    </tr>\n",
       "    <tr>\n",
       "      <td>3</td>\n",
       "      <td>3</td>\n",
       "      <td>Chamassasya86</td>\n",
       "      <td>24</td>\n",
       "      <td>Male</td>\n",
       "      <td>100</td>\n",
       "      <td>Blindscythe</td>\n",
       "      <td>3.27</td>\n",
       "    </tr>\n",
       "    <tr>\n",
       "      <td>4</td>\n",
       "      <td>4</td>\n",
       "      <td>Iskosia90</td>\n",
       "      <td>23</td>\n",
       "      <td>Male</td>\n",
       "      <td>131</td>\n",
       "      <td>Fury</td>\n",
       "      <td>1.44</td>\n",
       "    </tr>\n",
       "  </tbody>\n",
       "</table>\n",
       "</div>"
      ],
      "text/plain": [
       "   Purchase ID             SN  Age Gender  Item ID  \\\n",
       "0            0        Lisim78   20   Male      108   \n",
       "1            1    Lisovynya38   40   Male      143   \n",
       "2            2     Ithergue48   24   Male       92   \n",
       "3            3  Chamassasya86   24   Male      100   \n",
       "4            4      Iskosia90   23   Male      131   \n",
       "\n",
       "                                   Item Name  Price  \n",
       "0  Extraction, Quickblade Of Trembling Hands   3.53  \n",
       "1                          Frenzied Scimitar   1.56  \n",
       "2                               Final Critic   4.88  \n",
       "3                                Blindscythe   3.27  \n",
       "4                                       Fury   1.44  "
      ]
     },
     "execution_count": 1,
     "metadata": {},
     "output_type": "execute_result"
    }
   ],
   "source": [
    "#Setup\n",
    "import pandas as pd\n",
    "\n",
    "#Load File\n",
    "file_to_load = \"../HeroesOfPymoli_purchase_data.csv\"\n",
    "\n",
    "#Reading and Storing\n",
    "purchase_data_df = pd.read_csv(file_to_load)\n",
    "purchase_data_df.head(5)"
   ]
  },
  {
   "cell_type": "code",
   "execution_count": 2,
   "metadata": {},
   "outputs": [
    {
     "data": {
      "text/html": [
       "<div>\n",
       "<style scoped>\n",
       "    .dataframe tbody tr th:only-of-type {\n",
       "        vertical-align: middle;\n",
       "    }\n",
       "\n",
       "    .dataframe tbody tr th {\n",
       "        vertical-align: top;\n",
       "    }\n",
       "\n",
       "    .dataframe thead th {\n",
       "        text-align: right;\n",
       "    }\n",
       "</style>\n",
       "<table border=\"1\" class=\"dataframe\">\n",
       "  <thead>\n",
       "    <tr style=\"text-align: right;\">\n",
       "      <th></th>\n",
       "      <th>Total Players</th>\n",
       "    </tr>\n",
       "  </thead>\n",
       "  <tbody>\n",
       "    <tr>\n",
       "      <td>0</td>\n",
       "      <td>576</td>\n",
       "    </tr>\n",
       "  </tbody>\n",
       "</table>\n",
       "</div>"
      ],
      "text/plain": [
       "   Total Players\n",
       "0            576"
      ]
     },
     "execution_count": 2,
     "metadata": {},
     "output_type": "execute_result"
    }
   ],
   "source": [
    "#Player Count - Display Total Number of Players\n",
    "total_players = purchase_data_df[\"SN\"].unique()\n",
    "total_players_df = pd.DataFrame({\"Total Players\": [len(total_players)]})\n",
    "total_players_df"
   ]
  },
  {
   "cell_type": "code",
   "execution_count": 3,
   "metadata": {},
   "outputs": [
    {
     "data": {
      "text/html": [
       "<div>\n",
       "<style scoped>\n",
       "    .dataframe tbody tr th:only-of-type {\n",
       "        vertical-align: middle;\n",
       "    }\n",
       "\n",
       "    .dataframe tbody tr th {\n",
       "        vertical-align: top;\n",
       "    }\n",
       "\n",
       "    .dataframe thead th {\n",
       "        text-align: right;\n",
       "    }\n",
       "</style>\n",
       "<table border=\"1\" class=\"dataframe\">\n",
       "  <thead>\n",
       "    <tr style=\"text-align: right;\">\n",
       "      <th></th>\n",
       "      <th>Number of Unique Items</th>\n",
       "      <th>Average Price</th>\n",
       "      <th>Number of Purchases</th>\n",
       "      <th>Total Revenue</th>\n",
       "    </tr>\n",
       "  </thead>\n",
       "  <tbody>\n",
       "    <tr>\n",
       "      <td>0</td>\n",
       "      <td>183</td>\n",
       "      <td>$3.05</td>\n",
       "      <td>780</td>\n",
       "      <td>$2,379.77</td>\n",
       "    </tr>\n",
       "  </tbody>\n",
       "</table>\n",
       "</div>"
      ],
      "text/plain": [
       "   Number of Unique Items Average Price  Number of Purchases Total Revenue\n",
       "0                     183         $3.05                  780     $2,379.77"
      ]
     },
     "execution_count": 3,
     "metadata": {},
     "output_type": "execute_result"
    }
   ],
   "source": [
    "#Purchasing Analysis (Total) - Calcluate and Display: Number of Unique Items, Average Price, Number of Purchases, and Total Revenue\n",
    "num_unique_items = purchase_data_df[\"Item ID\"].unique()\n",
    "total_num_unique_items = len(num_unique_items)\n",
    "\n",
    "avg_price = purchase_data_df[\"Price\"].mean()\n",
    "format_avg_price = '${0:,.2f}'.format(avg_price)\n",
    "\n",
    "num_purchases = purchase_data_df[\"Purchase ID\"].count()\n",
    "\n",
    "total_revenue = purchase_data_df[\"Price\"].sum()\n",
    "format_total_revenue = '${0:,.2f}'.format(total_revenue)\n",
    "\n",
    "purchasing_analysis_df = pd.DataFrame({\n",
    "    \"Number of Unique Items\": [total_num_unique_items],\n",
    "    \"Average Price\": [format_avg_price],\n",
    "    \"Number of Purchases\": [num_purchases],\n",
    "    \"Total Revenue\": [format_total_revenue]\n",
    "})\n",
    "purchasing_analysis_df"
   ]
  },
  {
   "cell_type": "code",
   "execution_count": 4,
   "metadata": {},
   "outputs": [
    {
     "data": {
      "text/html": [
       "<style  type=\"text/css\" >\n",
       "</style><table id=\"T_125b2646_5f2d_11ea_a854_dc7196b7a79f\" ><thead>    <tr>        <th class=\"blank level0\" ></th>        <th class=\"col_heading level0 col0\" >Total Count</th>        <th class=\"col_heading level0 col1\" >Percentage of Players</th>    </tr></thead><tbody>\n",
       "                <tr>\n",
       "                        <th id=\"T_125b2646_5f2d_11ea_a854_dc7196b7a79flevel0_row0\" class=\"row_heading level0 row0\" >Male</th>\n",
       "                        <td id=\"T_125b2646_5f2d_11ea_a854_dc7196b7a79frow0_col0\" class=\"data row0 col0\" >484</td>\n",
       "                        <td id=\"T_125b2646_5f2d_11ea_a854_dc7196b7a79frow0_col1\" class=\"data row0 col1\" >84.03%</td>\n",
       "            </tr>\n",
       "            <tr>\n",
       "                        <th id=\"T_125b2646_5f2d_11ea_a854_dc7196b7a79flevel0_row1\" class=\"row_heading level0 row1\" >Female</th>\n",
       "                        <td id=\"T_125b2646_5f2d_11ea_a854_dc7196b7a79frow1_col0\" class=\"data row1 col0\" >81</td>\n",
       "                        <td id=\"T_125b2646_5f2d_11ea_a854_dc7196b7a79frow1_col1\" class=\"data row1 col1\" >14.06%</td>\n",
       "            </tr>\n",
       "            <tr>\n",
       "                        <th id=\"T_125b2646_5f2d_11ea_a854_dc7196b7a79flevel0_row2\" class=\"row_heading level0 row2\" >Other / Non-Disclosed</th>\n",
       "                        <td id=\"T_125b2646_5f2d_11ea_a854_dc7196b7a79frow2_col0\" class=\"data row2 col0\" >11</td>\n",
       "                        <td id=\"T_125b2646_5f2d_11ea_a854_dc7196b7a79frow2_col1\" class=\"data row2 col1\" >1.91%</td>\n",
       "            </tr>\n",
       "    </tbody></table>"
      ],
      "text/plain": [
       "<pandas.io.formats.style.Styler at 0x1ac7ae1d688>"
      ]
     },
     "execution_count": 4,
     "metadata": {},
     "output_type": "execute_result"
    }
   ],
   "source": [
    "#Gender Demographics - Calculate and Display: Total Count and Percentage for Males, Females, and Other\n",
    "\n",
    "#Gather Unique SN\n",
    "unique_purchase_data_df = purchase_data_df.drop_duplicates(subset=\"SN\", keep=\"first\")\n",
    "\n",
    "#Count gender of unique SN\n",
    "unique_gender_count_df = pd.DataFrame(unique_purchase_data_df[\"Gender\"].value_counts())\n",
    "\n",
    "#Change column Title\n",
    "unique_gender_count_df = unique_gender_count_df.rename(columns={\"Gender\": \"Total Count\"})\n",
    "\n",
    "#Calculate Percentages\n",
    "percent_players = unique_gender_count_df[\"Total Count\"]/len(total_players)\n",
    "\n",
    "#Insert Column and format Percentages\n",
    "unique_gender_count_df[\"Percentage of Players\"] = percent_players\n",
    "format_unique_gender_count_df = unique_gender_count_df.style.format({'Percentage of Players': '{:.2%}'})\n",
    "format_unique_gender_count_df\n"
   ]
  },
  {
   "cell_type": "code",
   "execution_count": 5,
   "metadata": {},
   "outputs": [
    {
     "data": {
      "text/html": [
       "<style  type=\"text/css\" >\n",
       "</style><table id=\"T_1260563e_5f2d_11ea_ad03_dc7196b7a79f\" ><thead>    <tr>        <th class=\"blank level0\" ></th>        <th class=\"col_heading level0 col0\" >Purchase Count</th>        <th class=\"col_heading level0 col1\" >Average Purchase Price</th>        <th class=\"col_heading level0 col2\" >Total Purchase Value</th>        <th class=\"col_heading level0 col3\" >Avg Total Purchase per Person</th>    </tr></thead><tbody>\n",
       "                <tr>\n",
       "                        <th id=\"T_1260563e_5f2d_11ea_ad03_dc7196b7a79flevel0_row0\" class=\"row_heading level0 row0\" >Female</th>\n",
       "                        <td id=\"T_1260563e_5f2d_11ea_ad03_dc7196b7a79frow0_col0\" class=\"data row0 col0\" >113</td>\n",
       "                        <td id=\"T_1260563e_5f2d_11ea_ad03_dc7196b7a79frow0_col1\" class=\"data row0 col1\" >$3.20</td>\n",
       "                        <td id=\"T_1260563e_5f2d_11ea_ad03_dc7196b7a79frow0_col2\" class=\"data row0 col2\" >$361.94</td>\n",
       "                        <td id=\"T_1260563e_5f2d_11ea_ad03_dc7196b7a79frow0_col3\" class=\"data row0 col3\" >$4.47</td>\n",
       "            </tr>\n",
       "            <tr>\n",
       "                        <th id=\"T_1260563e_5f2d_11ea_ad03_dc7196b7a79flevel0_row1\" class=\"row_heading level0 row1\" >Male</th>\n",
       "                        <td id=\"T_1260563e_5f2d_11ea_ad03_dc7196b7a79frow1_col0\" class=\"data row1 col0\" >652</td>\n",
       "                        <td id=\"T_1260563e_5f2d_11ea_ad03_dc7196b7a79frow1_col1\" class=\"data row1 col1\" >$3.02</td>\n",
       "                        <td id=\"T_1260563e_5f2d_11ea_ad03_dc7196b7a79frow1_col2\" class=\"data row1 col2\" >$1,967.64</td>\n",
       "                        <td id=\"T_1260563e_5f2d_11ea_ad03_dc7196b7a79frow1_col3\" class=\"data row1 col3\" >$4.07</td>\n",
       "            </tr>\n",
       "            <tr>\n",
       "                        <th id=\"T_1260563e_5f2d_11ea_ad03_dc7196b7a79flevel0_row2\" class=\"row_heading level0 row2\" >Other / Non-Disclosed</th>\n",
       "                        <td id=\"T_1260563e_5f2d_11ea_ad03_dc7196b7a79frow2_col0\" class=\"data row2 col0\" >15</td>\n",
       "                        <td id=\"T_1260563e_5f2d_11ea_ad03_dc7196b7a79frow2_col1\" class=\"data row2 col1\" >$3.35</td>\n",
       "                        <td id=\"T_1260563e_5f2d_11ea_ad03_dc7196b7a79frow2_col2\" class=\"data row2 col2\" >$50.19</td>\n",
       "                        <td id=\"T_1260563e_5f2d_11ea_ad03_dc7196b7a79frow2_col3\" class=\"data row2 col3\" >$4.56</td>\n",
       "            </tr>\n",
       "    </tbody></table>"
      ],
      "text/plain": [
       "<pandas.io.formats.style.Styler at 0x1ac7b67c708>"
      ]
     },
     "execution_count": 5,
     "metadata": {},
     "output_type": "execute_result"
    }
   ],
   "source": [
    "#Purchasing Analysis (Gender) - Calculate and Display: Purchase Count, Average Purchase Price, Total Purchase Value, and Avg Total Purchase per Person\n",
    "gender_count = purchase_data_df[\"Gender\"].value_counts()\n",
    "\n",
    "purchasing_analysis_df = purchase_data_df.groupby([\"Gender\"])\n",
    "\n",
    "avg_purchase_price = purchasing_analysis_df[\"Price\"].mean()\n",
    "\n",
    "total_purchase_value = purchasing_analysis_df[\"Price\"].sum()\n",
    "\n",
    "purchasing_analysis_summary_df = pd.DataFrame({\n",
    "    \"Purchase Count\": gender_count,\n",
    "    \"Average Purchase Price\": avg_purchase_price,\n",
    "    \"Total Purchase Value\": total_purchase_value\n",
    "})\n",
    "purchasing_analysis_summary_df[\"Avg Total Purchase per Person\"] = purchasing_analysis_summary_df[\"Total Purchase Value\"] / unique_gender_count_df[\"Total Count\"]\n",
    "format_purchasing_analysis_summary_df = purchasing_analysis_summary_df.style.format({\n",
    "    \"Average Purchase Price\": \"${0:,.2f}\", \n",
    "    \"Total Purchase Value\": \"${0:,.2f}\",\n",
    "    \"Avg Total Purchase per Person\": \"${0:,.2f}\"\n",
    "})\n",
    "format_purchasing_analysis_summary_df\n",
    "\n",
    "\n"
   ]
  },
  {
   "cell_type": "code",
   "execution_count": 6,
   "metadata": {},
   "outputs": [],
   "source": [
    "#Age Demographics"
   ]
  },
  {
   "cell_type": "code",
   "execution_count": 7,
   "metadata": {},
   "outputs": [],
   "source": [
    "#Purchase Analysis (Age)"
   ]
  },
  {
   "cell_type": "code",
   "execution_count": 8,
   "metadata": {},
   "outputs": [
    {
     "data": {
      "text/html": [
       "<style  type=\"text/css\" >\n",
       "</style><table id=\"T_126f3406_5f2d_11ea_96db_dc7196b7a79f\" ><thead>    <tr>        <th class=\"blank level0\" ></th>        <th class=\"col_heading level0 col0\" >Purchase Count</th>        <th class=\"col_heading level0 col1\" >Average Purchase Price</th>        <th class=\"col_heading level0 col2\" >Total Purchase Value</th>    </tr></thead><tbody>\n",
       "                <tr>\n",
       "                        <th id=\"T_126f3406_5f2d_11ea_96db_dc7196b7a79flevel0_row0\" class=\"row_heading level0 row0\" >Lisosia93</th>\n",
       "                        <td id=\"T_126f3406_5f2d_11ea_96db_dc7196b7a79frow0_col0\" class=\"data row0 col0\" >5</td>\n",
       "                        <td id=\"T_126f3406_5f2d_11ea_96db_dc7196b7a79frow0_col1\" class=\"data row0 col1\" >$3.79</td>\n",
       "                        <td id=\"T_126f3406_5f2d_11ea_96db_dc7196b7a79frow0_col2\" class=\"data row0 col2\" >$18.96</td>\n",
       "            </tr>\n",
       "            <tr>\n",
       "                        <th id=\"T_126f3406_5f2d_11ea_96db_dc7196b7a79flevel0_row1\" class=\"row_heading level0 row1\" >Idastidru52</th>\n",
       "                        <td id=\"T_126f3406_5f2d_11ea_96db_dc7196b7a79frow1_col0\" class=\"data row1 col0\" >4</td>\n",
       "                        <td id=\"T_126f3406_5f2d_11ea_96db_dc7196b7a79frow1_col1\" class=\"data row1 col1\" >$3.86</td>\n",
       "                        <td id=\"T_126f3406_5f2d_11ea_96db_dc7196b7a79frow1_col2\" class=\"data row1 col2\" >$15.45</td>\n",
       "            </tr>\n",
       "            <tr>\n",
       "                        <th id=\"T_126f3406_5f2d_11ea_96db_dc7196b7a79flevel0_row2\" class=\"row_heading level0 row2\" >Chamjask73</th>\n",
       "                        <td id=\"T_126f3406_5f2d_11ea_96db_dc7196b7a79frow2_col0\" class=\"data row2 col0\" >3</td>\n",
       "                        <td id=\"T_126f3406_5f2d_11ea_96db_dc7196b7a79frow2_col1\" class=\"data row2 col1\" >$4.61</td>\n",
       "                        <td id=\"T_126f3406_5f2d_11ea_96db_dc7196b7a79frow2_col2\" class=\"data row2 col2\" >$13.83</td>\n",
       "            </tr>\n",
       "            <tr>\n",
       "                        <th id=\"T_126f3406_5f2d_11ea_96db_dc7196b7a79flevel0_row3\" class=\"row_heading level0 row3\" >Iral74</th>\n",
       "                        <td id=\"T_126f3406_5f2d_11ea_96db_dc7196b7a79frow3_col0\" class=\"data row3 col0\" >4</td>\n",
       "                        <td id=\"T_126f3406_5f2d_11ea_96db_dc7196b7a79frow3_col1\" class=\"data row3 col1\" >$3.40</td>\n",
       "                        <td id=\"T_126f3406_5f2d_11ea_96db_dc7196b7a79frow3_col2\" class=\"data row3 col2\" >$13.62</td>\n",
       "            </tr>\n",
       "            <tr>\n",
       "                        <th id=\"T_126f3406_5f2d_11ea_96db_dc7196b7a79flevel0_row4\" class=\"row_heading level0 row4\" >Iskadarya95</th>\n",
       "                        <td id=\"T_126f3406_5f2d_11ea_96db_dc7196b7a79frow4_col0\" class=\"data row4 col0\" >3</td>\n",
       "                        <td id=\"T_126f3406_5f2d_11ea_96db_dc7196b7a79frow4_col1\" class=\"data row4 col1\" >$4.37</td>\n",
       "                        <td id=\"T_126f3406_5f2d_11ea_96db_dc7196b7a79frow4_col2\" class=\"data row4 col2\" >$13.10</td>\n",
       "            </tr>\n",
       "    </tbody></table>"
      ],
      "text/plain": [
       "<pandas.io.formats.style.Styler at 0x1ac7b71ef48>"
      ]
     },
     "execution_count": 8,
     "metadata": {},
     "output_type": "execute_result"
    }
   ],
   "source": [
    "#Top Spenders\n",
    "sn_purchase_count = purchase_data_df[\"SN\"].value_counts()\n",
    "\n",
    "top_spenders_df = purchase_data_df.groupby([\"SN\"])\n",
    "\n",
    "top_avg_purch_price = top_spenders_df[\"Price\"].mean()\n",
    "\n",
    "top_total_purch_price = top_spenders_df[\"Price\"].sum()\n",
    "\n",
    "top_spenders_summary_df = pd.DataFrame({\n",
    "    \"Purchase Count\": sn_purchase_count,\n",
    "    \"Average Purchase Price\": top_avg_purch_price,\n",
    "    \"Total Purchase Value\": top_total_purch_price\n",
    "})\n",
    "\n",
    "sorted_top_spenders_summary_df = top_spenders_summary_df.sort_values(by=\"Total Purchase Value\", ascending=False).head()\n",
    "\n",
    "format_sorted_top_spenders_summary_df = sorted_top_spenders_summary_df.style.format({\n",
    "    \"Average Purchase Price\": \"${0:,.2f}\",\n",
    "    \"Total Purchase Value\": \"${0:,.2f}\"\n",
    "})\n",
    "\n",
    "format_sorted_top_spenders_summary_df"
   ]
  },
  {
   "cell_type": "code",
   "execution_count": null,
   "metadata": {},
   "outputs": [],
   "source": []
  }
 ],
 "metadata": {
  "kernelspec": {
   "display_name": "Python 3",
   "language": "python",
   "name": "python3"
  },
  "language_info": {
   "codemirror_mode": {
    "name": "ipython",
    "version": 3
   },
   "file_extension": ".py",
   "mimetype": "text/x-python",
   "name": "python",
   "nbconvert_exporter": "python",
   "pygments_lexer": "ipython3",
   "version": "3.7.4"
  }
 },
 "nbformat": 4,
 "nbformat_minor": 2
}
